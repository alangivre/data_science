{
  "nbformat": 4,
  "nbformat_minor": 0,
  "metadata": {
    "colab": {
      "provenance": []
    },
    "kernelspec": {
      "name": "python3",
      "display_name": "Python 3"
    },
    "language_info": {
      "name": "python"
    }
  },
  "cells": [
    {
      "cell_type": "markdown",
      "source": [
        "Este es un ejercicio de Machine Learning, a ser realizado en 45 minutos."
      ],
      "metadata": {
        "id": "WZWBLLybiu88"
      }
    },
    {
      "cell_type": "code",
      "source": [
        "import pandas as pd\n",
        "from sklearn.metrics import f1_score\n",
        "from sklearn.model_selection import train_test_split\n",
        "from sklearn.ensemble import RandomForestClassifier"
      ],
      "metadata": {
        "id": "t8obiQUHARWh"
      },
      "execution_count": null,
      "outputs": []
    },
    {
      "cell_type": "code",
      "source": [
        "# Corrected raw URLs for GitHub data\n",
        "url_test = 'https://raw.githubusercontent.com/alangivre/data_science/main/baires_test.csv'\n",
        "url_train = 'https://raw.githubusercontent.com/alangivre/data_science/main/baires_train.csv'\n",
        "\n",
        "# Read the CSV files\n",
        "df_test = pd.read_csv(url_test)\n",
        "df_train = pd.read_csv(url_train)"
      ],
      "metadata": {
        "id": "7BpuINWECrWW"
      },
      "execution_count": null,
      "outputs": []
    },
    {
      "cell_type": "code",
      "source": [
        "df_train_cleaned = df_train.dropna(axis=1, how='any')\n",
        "df_test_cleaned = df_test.dropna(axis=1, how='any')"
      ],
      "metadata": {
        "id": "_n1Gwis6F-Is"
      },
      "execution_count": null,
      "outputs": []
    },
    {
      "cell_type": "code",
      "source": [
        "df_train_X=df_train_cleaned.drop(\"Target\",axis=1)\n",
        "df_train_Y=df_train_cleaned[[\"Target\"]]"
      ],
      "metadata": {
        "id": "KS6ez4VfEGkg"
      },
      "execution_count": null,
      "outputs": []
    },
    {
      "cell_type": "code",
      "source": [
        "X_train_0, X_test_0, y_train_0, y_test_0 = train_test_split(df_train_X,df_train_Y,test_size=0.2, random_state=1)\n",
        "modelo = RandomForestClassifier(random_state=1)\n",
        "modelo.fit(X_train_0.iloc[:, 1:], y_train_0)\n",
        "preds = modelo.predict(X_test_0.iloc[:, 1:])"
      ],
      "metadata": {
        "colab": {
          "base_uri": "https://localhost:8080/"
        },
        "id": "I4GGKqZuBoOU",
        "outputId": "ec267d54-4ba9-42f3-8b2c-bb44410e67ad"
      },
      "execution_count": null,
      "outputs": [
        {
          "output_type": "stream",
          "name": "stderr",
          "text": [
            "<ipython-input-34-407f1604fc4e>:3: DataConversionWarning: A column-vector y was passed when a 1d array was expected. Please change the shape of y to (n_samples,), for example using ravel().\n",
            "  modelo.fit(X_train_0.iloc[:, 1:], y_train_0)\n"
          ]
        }
      ]
    },
    {
      "cell_type": "code",
      "source": [
        "score = 100*f1_score(y_test_0,preds, average= \"weighted\")\n",
        "print(score)"
      ],
      "metadata": {
        "id": "M7MVUJPkAakM",
        "colab": {
          "base_uri": "https://localhost:8080/"
        },
        "outputId": "a24d07ae-cbc8-4f35-805e-88e4e88b5fc5"
      },
      "execution_count": null,
      "outputs": [
        {
          "output_type": "stream",
          "name": "stdout",
          "text": [
            "93.710395115764\n"
          ]
        }
      ]
    },
    {
      "cell_type": "code",
      "source": [
        "preds_final = modelo.predict(df_test_cleaned.iloc[:, 1:])"
      ],
      "metadata": {
        "id": "tFci679AI8OR"
      },
      "execution_count": null,
      "outputs": []
    },
    {
      "cell_type": "code",
      "source": [
        "df_result = pd.DataFrame({\n",
        "    \"ID\": df_test_cleaned.iloc[:, 0],  # First column of df_test_cleaned\n",
        "    \"Target\": preds_final  # Predictions\n",
        "})"
      ],
      "metadata": {
        "id": "VARcwGPfG1Pm"
      },
      "execution_count": null,
      "outputs": []
    },
    {
      "cell_type": "code",
      "source": [
        "print(df_result)"
      ],
      "metadata": {
        "colab": {
          "base_uri": "https://localhost:8080/"
        },
        "id": "0LOHWsMhHx3c",
        "outputId": "8190b572-e32f-42d0-bd84-4dc3a3d622cd"
      },
      "execution_count": null,
      "outputs": [
        {
          "output_type": "stream",
          "name": "stdout",
          "text": [
            "                            ID  Target\n",
            "0     fffe31003600330038003500       0\n",
            "1     fffe33003600300031003400       0\n",
            "2             fffe320033003300       1\n",
            "3             fffe390039003800       0\n",
            "4         fffe3500350031003000       0\n",
            "...                        ...     ...\n",
            "2159      fffe3800350033003300       0\n",
            "2160  fffe34003700330030003900       0\n",
            "2161  fffe32003000330035003500       0\n",
            "2162      fffe3100370032003100       0\n",
            "2163      fffe3800340030003400       0\n",
            "\n",
            "[2164 rows x 2 columns]\n"
          ]
        }
      ]
    },
    {
      "cell_type": "code",
      "source": [
        "df_result.to_csv(\"/content/output.csv\", index=False)"
      ],
      "metadata": {
        "id": "Q3uSlmOxHYgr"
      },
      "execution_count": null,
      "outputs": []
    }
  ]
}